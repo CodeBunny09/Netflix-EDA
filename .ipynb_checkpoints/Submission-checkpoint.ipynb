{
 "cells": [
  {
   "cell_type": "markdown",
   "id": "e05cde24-bc33-498b-9db6-f2f293dd3b2c",
   "metadata": {
    "id": "vncDsAP0Gaoa"
   },
   "source": [
    "# **Netflix EDA**"
   ]
  },
  {
   "cell_type": "markdown",
   "id": "744f0342-5896-4127-b942-242960868b55",
   "metadata": {
    "id": "beRrZCGUAJYm"
   },
   "source": [
    "##### **Project Type**    - Exploratory Data Analytics\n",
    "##### **Author**    - Pratik Choudhuri"
   ]
  },
  {
   "cell_type": "markdown",
   "id": "e4be409f-daf2-4353-8c3d-ac43450eb620",
   "metadata": {
    "id": "FJNUwmbgGyua"
   },
   "source": [
    "# **Project Summary:**"
   ]
  },
  {
   "cell_type": "markdown",
   "id": "d033c89a-1b54-414f-9f1d-9ee468fcb7ae",
   "metadata": {
    "id": "F6v_1wHtG2nS"
   },
   "source": [
    "This project involves **exploratory data analysis (EDA)** on a Netflix dataset using Python's data analysis and visualization libraries (`Pandas`, `Seaborn`, and `Matplotlib`). The dataset includes attributes like `title`, `cast`, `director`, `release year`, `rating`, `genre`, and `duration`. The analysis aims to uncover patterns and insights related to:\n",
    "\n",
    "- The distribution of content types (Movies vs TV Shows)\n",
    "- Country-wise contributions\n",
    "- Genre popularity\n",
    "- Actor involvement in different genres\n",
    "- Content trends over time (genre and release year\n",
    "- Correlation between numerical factors like duration, rating, and year\n",
    "- Duration distribution across ratings and content types"
   ]
  },
  {
   "cell_type": "markdown",
   "id": "a32bf49c-155c-4a71-a722-28a999eabe6f",
   "metadata": {
    "id": "w6K7xa23Elo4"
   },
   "source": [
    "# **GitHub Link -**"
   ]
  },
  {
   "cell_type": "markdown",
   "id": "3b64b223-a557-42f4-9dd1-787dc9dba257",
   "metadata": {
    "id": "h1o69JH3Eqqn"
   },
   "source": [
    "https://github.com/CodeBunny09/Netflix-EDA"
   ]
  },
  {
   "cell_type": "markdown",
   "id": "2d482ab7-b978-46aa-bc97-3fbb9b25e865",
   "metadata": {
    "id": "yQaldy8SH6Dl"
   },
   "source": [
    "# **Problem Statement**\n"
   ]
  },
  {
   "cell_type": "markdown",
   "id": "5a604e7e-08ab-4955-bcf9-fba7c96e4a11",
   "metadata": {
    "id": "DpeJGUA3kjGy"
   },
   "source": [
    "This project helps to address the following analytical and operational problems:\n",
    "\n",
    "1. **Content Strategy & Acquisition**\n",
    "   - Which countries produce the most content? Useful for strategic partnerships.\n",
    "   - Which genres are most popular over time? Helps with trend forecasting and acquisitions.\n",
    "\n",
    "2. **User Segmentation & Targeting**\n",
    "   - By mapping ratings to age groups, it becomes easier to tailor content for different demographics.\n",
    "   - Understand what content types and durations align with audience age and preferences.\n",
    "\n",
    "3. **Actor & Genre Relationship**\n",
    "   - The radar charts show which actors are dominant in which genres, which helps in casting decisions or targeted promotions.\n",
    "\n",
    "4. **Platform Utilization and Release Timing**\n",
    "   - Month-wise analysis of when content is added can inform marketing schedules or content drops.\n",
    "   - Comparison between year of release and addition shows how fresh the content is on Netflix.\n",
    "\n",
    "5. **Duration and Format**\n",
    "   - Understanding whether longer shows are more common in certain genres or ratings can help plan runtimes better.\n",
    "\n"
   ]
  },
  {
   "cell_type": "markdown",
   "id": "34b88f5f-236f-4eca-a027-f6ec4af03d70",
   "metadata": {
    "id": "PH-0ReGfmX4f"
   },
   "source": [
    "# **Business Objective**"
   ]
  },
  {
   "cell_type": "markdown",
   "id": "450bd29b-a59d-4792-8806-ad3ffcb07fa5",
   "metadata": {
    "id": "PhDvGCAqmjP1"
   },
   "source": [
    "From a business and operational perspective, the following objectives are served:\n",
    "\n",
    "1. **Optimize Content Portfolio**\n",
    "   - By identifying top-performing countries, genres, and actors, Netflix can prioritize content investments and licensing.\n",
    "\n",
    "2. **Audience Growth**\n",
    "    - Genre trends over time and age-mapped rating data help in curating personalized content for different audience segments.\n",
    "\n",
    "3. **Improve Retention and Engagement**\n",
    "    - Knowing which types of content are watched when (e.g., monthly content drop trends) helps plan a more engaging content calendar.\n",
    "\n",
    "4. **Data-Driven Recommendations**\n",
    "    - Actor-genre analysis and correlation insights could feed into recommendation engine tuning (e.g., more accurate \"Because you watched...\" suggestions).\n",
    "\n",
    "5. **Operational Efficiency**\n",
    "    - Insight into content duration trends and their correlation with ratings or viewership potential can inform production and post-production planning.\n",
    "\n"
   ]
  },
  {
   "cell_type": "markdown",
   "id": "9e204693-cf71-4900-ac45-e73a72d51939",
   "metadata": {},
   "source": [
    "## Loading and exploring the dataset"
   ]
  },
  {
   "cell_type": "code",
   "execution_count": null,
   "id": "a5c3a466-ee6a-46de-b81b-b68b022d1680",
   "metadata": {},
   "outputs": [],
   "source": [
    "# importing libraries\n",
    "import numpy as np\n",
    "import pandas as pd\n",
    "import seaborn as sns\n",
    "import matplotlib.pyplot as plt\n",
    "\n",
    "sns.set(style='whitegrid')"
   ]
  },
  {
   "cell_type": "code",
   "execution_count": null,
   "id": "cb3bb124-f9ed-4517-92a1-1c9767b042f9",
   "metadata": {},
   "outputs": [],
   "source": [
    "#loading the dataset\n",
    "df = pd.read_csv('netflix.csv')\n",
    "df.head()"
   ]
  },
  {
   "cell_type": "markdown",
   "id": "05e0c1c6-e876-453d-84fa-80e2958a88fc",
   "metadata": {},
   "source": [
    "`df.head()` gives the first five columns, and gives a basic understanding of the dataset wether it is loaded properly or not"
   ]
  },
  {
   "cell_type": "code",
   "execution_count": null,
   "id": "fcb87747-10df-447e-9c81-8983eb89faab",
   "metadata": {},
   "outputs": [],
   "source": [
    "df.shape"
   ]
  },
  {
   "cell_type": "markdown",
   "id": "90073358-046c-4603-9ce7-d58cdf15b9ce",
   "metadata": {},
   "source": [
    "`df.shape` gives an output of `(7787, 12)` which means that the dataset has **7787 rows** and **12 columns**"
   ]
  },
  {
   "cell_type": "code",
   "execution_count": null,
   "id": "5b51718a-611f-46ac-be6f-8f7ac4309547",
   "metadata": {},
   "outputs": [],
   "source": [
    "df.describe()"
   ]
  },
  {
   "cell_type": "markdown",
   "id": "8f5c6ec6-96e1-4a0f-bc86-cbdff0da0ac3",
   "metadata": {},
   "source": [
    "`df.describe()` shows you a **descriptive statistics** that summarize the **central tendency**, **dispersion** and **shape** of a dataset's distribution, excluding NaN values\n",
    "\n",
    "By default, it works for **numeric columns** only\n",
    "\n",
    "**The data shows that:**\n",
    "- `count (7787)`: There are **7,787 entries** in the `release_year` column.\n",
    "- `mean (2013.93`): The average release year is **around 2014**.\n",
    "- `std (8.76)`, `25% (2013)`, `50% / median (2017)`, `75% (2018)`: Although the standard deviation is **8.76**, indicating **moderate variability**, the data is **skewed** toward more recent years—`25%` of titles were released by **2013**, `50%` by **2017**, and `75%` by **2018**, despite the **mean** release year being **around 2014**.\n",
    "- `min (1925)`: The **earliest release year** in the dataset is **1925**.\n",
    "- `max (2021)`: The **most recent release year** is **2021**."
   ]
  },
  {
   "cell_type": "code",
   "execution_count": null,
   "id": "c49a6634-e08d-4f6f-a6ca-46fa1a19bdd0",
   "metadata": {},
   "outputs": [],
   "source": [
    "df.info()"
   ]
  },
  {
   "cell_type": "markdown",
   "id": "f7c43227-9a8c-4f22-94dc-3dd3c05587bb",
   "metadata": {
    "id": "gfoNAAC-nUe_"
   },
   "source": [
    "**Variables Description**\n",
    "Below is a brief description of the key columns:\n",
    "- **show_id**: Unique ID for each title.\n",
    "- **type**: Content type (Movie or TV Show).\n",
    "- **title**: Title of the movie or show.\n",
    "- **director**, **cast**: Name(s) of director(s) or cast (actors) separated by commas.\n",
    "- **country**: Country or countries where the title was produced (comma-separated).\n",
    "- **date_added**: Date the title was added to Netflix’s catalog.\n",
    "- **release_year**: The year the content was originally released.\n",
    "- **rating**: Rating classification (e.g., TV-MA, R, PG-13).\n",
    "- **duration**: For movies, length in minutes (e.g., 90 min); for TV shows, number of seasons (e.g., 3 Seasons).\n",
    "- **listed_in**: Comma-separated genre/categories.\n",
    "- **description**: Short synopsis of the content."
   ]
  },
  {
   "cell_type": "markdown",
   "id": "e49560b4-c0d3-4333-a76f-1f4177f95758",
   "metadata": {},
   "source": [
    "`df.info()` provides a concise summary of a DataFrame, displaying information about the DataFrame, including: **Index dtype**, **Column names**, **Data types** of each column, **Number of non-null values** in each column, and **memory usage**\n",
    "\n",
    "### Findings from the above data:\n",
    "- There are **7787 rows** and **12 columns**\n",
    "- The columns `director`, `cast`, `country`, `date_added`, and `rating` has null columns.\n",
    "- From `dtypes: int64(1), object(11)` we can infer that there is only one numeric (`int64`) column in the dataset i.e `release_year`, and all the other columns are strings (`object`)\n",
    "\n",
    "**Lets dive deeper about the missing values in the following columns**"
   ]
  },
  {
   "cell_type": "code",
   "execution_count": null,
   "id": "31f4a758-162c-4afc-b6fb-2d3ad19c3da7",
   "metadata": {},
   "outputs": [],
   "source": [
    "df.isna().sum()"
   ]
  },
  {
   "cell_type": "markdown",
   "id": "e773756f-c11c-439d-a718-7046c638bbc0",
   "metadata": {},
   "source": [
    "`df.isna().sum()` is a Pandas command used to find the **number of missing values in each column** of a DataFrame. \n",
    "**Here's how it works:**\n",
    "- `df.isna()`: This part of the command **checks each cell** in the DataFrame df for missing values (`NaN`, `None`, etc.). It **returns** a new DataFrame of the **same shape** as df, but with boolean values: **True** if the value is missing, and **False** otherwise.\n",
    "- `.sum()`: This part is applied to the boolean DataFrame resulting from `df.isna()`. The `sum()` function, when applied to boolean values, treats **True** as **1** and **False** as **0**. Therefore, it sums the True values in each column, effectively counting the number of missing values in each column.\n",
    "\n",
    "**From the above data, we can see that:**\n",
    "- `director` has **2389** missing values.\n",
    "- `cast` has **718** missing values.\n",
    "- `country` has **507** missing values.\n",
    "- `date_added` has **10** missing values.\n",
    "- `rating` has **7** missing values."
   ]
  },
  {
   "cell_type": "markdown",
   "id": "3302e861-c0ea-4ead-b3ae-c47f529a5793",
   "metadata": {},
   "source": [
    "## Cleaning and preprocessing the data"
   ]
  },
  {
   "cell_type": "markdown",
   "id": "428099dd-65c4-4a2a-9ec9-5090521253fb",
   "metadata": {},
   "source": [
    "**Data cleaning and preprocessing** is the crucial first step in any data analysis project, ensuring the data is **accurate**, **consistent**, and **ready for further analysis** or model building. This process involves **identifying and correcting errors**, **handling missing values**, and **transforming** the data into a suitable format. \n",
    "\n",
    "**First we have to update `date_added` from an `object` datatype to a `datetime64` datatype, then we will handle the missing values.**\n",
    "\n",
    "### Handeling Missing Values:\n",
    "**The following are the missing data, followed by the strategy to fill them:**\n",
    "- `rating`: Fill the na-data with `\"Unknown\"`.\n",
    "- `date_added`: Fill the na-data with **most recent release date**.\n",
    "- `cast`: Fill the na-data with `\"Unknown\"`.\n",
    "- `country`: Fill the na-data with `\"Unknown\"`.\n",
    "- `director`: Fill the na-data with `\"Unknown\"`."
   ]
  },
  {
   "cell_type": "code",
   "execution_count": null,
   "id": "ef9e2fc4-1fbb-4533-a123-c0946527afd4",
   "metadata": {},
   "outputs": [],
   "source": [
    "df[df['date_added'].isnull()]"
   ]
  },
  {
   "cell_type": "code",
   "execution_count": null,
   "id": "79dbf377-9dce-47d0-a595-e830ebed2374",
   "metadata": {},
   "outputs": [],
   "source": [
    "# convert data type (form object to datetime64)\n",
    "df['date_added'] = pd.to_datetime(df['date_added'].astype(str).str.strip(), format=\"%B %d, %Y\", errors='coerce')"
   ]
  },
  {
   "cell_type": "code",
   "execution_count": null,
   "id": "001dd1de-3f05-4215-bffa-488b2a4b77ca",
   "metadata": {},
   "outputs": [],
   "source": [
    "df.info()"
   ]
  },
  {
   "cell_type": "markdown",
   "id": "c7e5086b-0dd9-4147-a2c1-82ce53654b73",
   "metadata": {},
   "source": [
    "Nice! The `date_added` column is now converted from `object` data type to `datetime64` data type.\n",
    "\n",
    "**Lets deal with the missing values now**\n",
    "- We will fill the null value in the columns `rating`, `cast`, `country`, and `director` as `\"Unknown\"` as obtaining that data is not possible from the dataset.\n",
    "- We see that the data is **skewed toward more recent years**—25% of titles were released by 2013, 50% by 2017, and 75% by 2018, **despite the mean release year being around 2014** in the `release_year` column.\n",
    "- So to fill the `NaT` values in the `date_added` column, we wont take the **average** or the **mean date**, rather we will **replace** it with the **most recent release year** in the dataset."
   ]
  },
  {
   "cell_type": "code",
   "execution_count": null,
   "id": "25dd9bfc-69eb-4b05-ba4f-f2d0bc665db1",
   "metadata": {},
   "outputs": [],
   "source": [
    "most_recent_date=df['date_added'].max() # find the most recent entry in the `date_added` column\n",
    "print(f'Most recent release date: {most_recent_date}')\n",
    "\n",
    "na_values = {\n",
    "    'rating': 'Unknown',\n",
    "    'cast': 'Unknown',\n",
    "    'country': 'Unknown',\n",
    "    'director': 'Unknown',\n",
    "    'date_added': most_recent_date\n",
    "}\n",
    "df.fillna(na_values, inplace=True)"
   ]
  },
  {
   "cell_type": "code",
   "execution_count": null,
   "id": "972f6b2a-3a59-4d12-8028-405be155e486",
   "metadata": {},
   "outputs": [],
   "source": [
    "# checking an imputed entry\n",
    "df[df['show_id'] == 's2264']"
   ]
  },
  {
   "cell_type": "markdown",
   "id": "6eae140e-294e-4379-9522-850cd9fe300d",
   "metadata": {},
   "source": [
    "`date_added` which was `NaT` in this record is succesfully changed to the most recent release date (`2021-01-16`). \n",
    "Similarly for all the other rows, the `Nat` values are imputed to the most recent release date (`2021-01-16`). "
   ]
  },
  {
   "cell_type": "code",
   "execution_count": null,
   "id": "3d819e2d-f866-492c-a50b-d2f85ee2a71e",
   "metadata": {},
   "outputs": [],
   "source": [
    "df.isna().sum()"
   ]
  },
  {
   "cell_type": "markdown",
   "id": "50496fc5-4d26-4ef0-a303-a0f9a1c7ad18",
   "metadata": {},
   "source": [
    "The null values are successfully gone."
   ]
  },
  {
   "cell_type": "markdown",
   "id": "a422336a-95e3-4e66-b768-86e3a1238a03",
   "metadata": {},
   "source": [
    "## Visualizations"
   ]
  },
  {
   "cell_type": "markdown",
   "id": "d8dafbf0-8d15-4107-a1ea-9ddf3f6f6bf5",
   "metadata": {},
   "source": [
    "Lets take a look at the type of shows on Netflix"
   ]
  },
  {
   "cell_type": "markdown",
   "id": "1f8e155e-bd23-4cb2-a23e-7587862617b4",
   "metadata": {},
   "source": [
    "### Type of show"
   ]
  },
  {
   "cell_type": "code",
   "execution_count": null,
   "id": "1aa3b49a-cb42-44a7-aa34-de23cea0ef4d",
   "metadata": {},
   "outputs": [],
   "source": [
    "df.type.value_counts() #check the actual counts"
   ]
  },
  {
   "cell_type": "code",
   "execution_count": null,
   "id": "3ee1dbf0-c65f-4259-a23d-c86c37d79412",
   "metadata": {},
   "outputs": [],
   "source": [
    "# now plot the data in a countplot\n",
    "sns.countplot(x = 'type', data=df)\n",
    "plt.title('Count vs Type of Show')"
   ]
  },
  {
   "cell_type": "markdown",
   "id": "e03902ab-06bf-4a2c-98e8-24525901516b",
   "metadata": {},
   "source": [
    "The `countplot` shows that there are more **Movies** in Netflix compared to **TV Shows**\n",
    "\n",
    "Now lets see the **top 10 countries** that releases content on **Netflix**"
   ]
  },
  {
   "cell_type": "markdown",
   "id": "f5bc2236-b8d9-43a4-9426-9a24a404b696",
   "metadata": {},
   "source": [
    "1. Why the specific chart?\n",
    "- A countplot was chosen because it effectively displays the frequency of categorical variables—in this case, the types of content ('Movie' vs 'TV Show') available on Netflix. It provides a simple visual comparison of the count of each category.\n",
    "\n",
    "2. What is/are the insight(s) found from the chart?\n",
    "- The chart reveals that Netflix hosts a greater number of Movies compared to TV Shows. This indicates a heavier emphasis on movie content in their catalog.\n",
    "\n",
    "3. Will the gained insights help creating a positive business impact?\n",
    "- Yes, the insight can positively impact business decisions by guiding Netflix to evaluate whether the current content mix aligns with user demand and viewing behavior. If analytics show that TV Shows have higher engagement or retention, Netflix might consider increasing TV Show content to optimize user satisfaction and retention. On the flip side, if the overrepresentation of Movies does not meet viewer preferences, this imbalance could lead to decreased user satisfaction and potential churn,\n"
   ]
  },
  {
   "cell_type": "markdown",
   "id": "2ea472f7-f9b8-477c-83a9-6a7bd62f5f34",
   "metadata": {},
   "source": [
    "### Top 10 Countires"
   ]
  },
  {
   "cell_type": "code",
   "execution_count": null,
   "id": "78641bd7-0878-427e-b839-18f19db5fac3",
   "metadata": {},
   "outputs": [],
   "source": [
    "print(f'There are {len(df[\"country\"].value_counts())} unique countries')\n",
    "print(df['country'].value_counts().head(10))"
   ]
  },
  {
   "cell_type": "markdown",
   "id": "55f7a6a2-3b34-4b6e-9a67-12ee48f32d81",
   "metadata": {},
   "source": [
    "The top 10 countries is takes as there are 682 total countries, and visualizing them in a single plot will give a lot of noise and irregular data."
   ]
  },
  {
   "cell_type": "code",
   "execution_count": null,
   "id": "009a1022-53da-4674-aa38-64c12dea37c1",
   "metadata": {},
   "outputs": [],
   "source": [
    "#plot the countplot\n",
    "sns.countplot(y = 'country', order = df['country'].value_counts().index[0:10], data=df)\n",
    "\n",
    "sns.countplot(\n",
    "    y = 'country',\n",
    "    hue = 'country',  \n",
    "    order = df['country'].value_counts().index[0:10],\n",
    "    data = df,\n",
    ")\n",
    "\n",
    "plt.title('Top 10 Countries on Netflix')"
   ]
  },
  {
   "cell_type": "markdown",
   "id": "e885c90b-e708-4874-902d-2f6d0e5fbf4a",
   "metadata": {},
   "source": [
    "This is a combined countplot including both **movies** and **tv shows**.\n",
    "\n",
    "Now lets look a the top 10 countries that has released **most of the content** grouped by its **type**."
   ]
  },
  {
   "cell_type": "markdown",
   "id": "f933c509-dba5-48ff-baa6-194a18d10895",
   "metadata": {},
   "source": [
    "1. Why the specific chart?\n",
    "- A horizontal countplot with a hue was selected to visualize the top 10 countries producing the most content, segmented by type (Movies and TV Shows). This format makes it easy to compare both total volume and content type distribution across countries in a clear, side-by-side manner.\n",
    "\n",
    "2. What is/are the insight(s) found from the chart?\n",
    "- The chart shows which countries are the largest content contributors to Netflix and how their contributions break down between Movies and TV Shows. For example, the United States likely dominates both categories, while other countries may favor one type over the other, revealing strategic preferences or production strengths.\n",
    "\n",
    "3. Will the gained insights help creating a positive business impact?\n",
    "- Yes, these insights are valuable for content acquisition and localization strategies. If a country has a strong showing in TV Shows, Netflix might consider licensing or co-producing more TV content there to match audience interest. It also helps identify content gaps by country and type. On the flip side, if certain markets show a lopsided distribution (e.g., very few TV Shows from a major region), it could alienate users looking for that type of content, possibly leading to regional dissatisfaction and negative growth if not addressed.\n"
   ]
  },
  {
   "cell_type": "markdown",
   "id": "7efd5729-917b-4468-8681-499b56519076",
   "metadata": {},
   "source": [
    "### Top 10 Countries grouped by Type"
   ]
  },
  {
   "cell_type": "code",
   "execution_count": null,
   "id": "1a79c727-bb72-4b8a-a8b8-b01ad31be8cb",
   "metadata": {},
   "outputs": [],
   "source": [
    "# Create dfferent copies od dataset filtering out according to its type\n",
    "movie_countries = df[df['type'] == 'Movie']\n",
    "show_countries = df[df['type'] == 'TV Show']"
   ]
  },
  {
   "cell_type": "code",
   "execution_count": null,
   "id": "a13ad187-ba41-4f24-818d-b574d28f0c18",
   "metadata": {},
   "outputs": [],
   "source": [
    "# Plot the data\n",
    "\n",
    "# first the movie countries\n",
    "plt.figure(figsize=(12, 6))\n",
    "sns.countplot(\n",
    "    y = 'country',\n",
    "    hue = 'country',\n",
    "    order = df['country'].value_counts().index[0:10],\n",
    "    data = movie_countries,\n",
    ")\n",
    "plt.title('Top 10 Countries producing Movies on Netflix')\n",
    "\n",
    "\n",
    "# and the shows\n",
    "plt.figure(figsize=(12, 6))\n",
    "sns.countplot(\n",
    "    y = 'country',\n",
    "    hue = 'country',\n",
    "    order = df['country'].value_counts().index[0:10],\n",
    "    data = show_countries,\n",
    ")\n",
    "plt.title('Top 10 Countries producing TV Show on Netflix')"
   ]
  },
  {
   "cell_type": "markdown",
   "id": "e90e66ad-6957-45ea-8c44-fe3db2fef92d",
   "metadata": {},
   "source": [
    "**From the above data we can see that:**\n",
    "1. **United States** produces the most amount of **movies** as well as **shows**.\n",
    "2. The **second largest** producer of **movies** is **India** and **TV Shows** is **United Kingdom**.\n",
    "3. This dataset also shows that there are a significant number of entries with **unknown countries**.\n",
    "\n",
    "Now, lets see the **major ratings** given to the Netflix Shows."
   ]
  },
  {
   "cell_type": "markdown",
   "id": "88a639d0-adf4-468a-b7cb-61a45df195e3",
   "metadata": {},
   "source": [
    "1. Why the specific chart?\n",
    "- Separate countplots for Movies and TV Shows were used to clearly visualize the distribution of top 10 content-producing countries by type. This separation allows for a more focused comparison within each category, avoiding visual clutter and making trends more apparent.\n",
    "\n",
    "2. What is/are the insight(s) found from the chart?\n",
    "- The key insights are:\n",
    "    1. The United States is the dominant producer of both Movies and TV Shows on Netflix.\n",
    "    2. India ranks second in Movie production, while the United Kingdom holds that position for TV Shows.\n",
    "    3. A notable number of entries have missing or unknown country data, which could affect the accuracy of global content analysis.\n",
    "\n",
    "3. Will the gained insights help creating a positive business impact?\n",
    "- Yes, these insights help in strategic decision-making by showing where Netflix's content supply is concentrated and highlighting regional strengths in content type. This can guide content localization, investment in original productions, and partnerships with content creators in underrepresented regions. However, the presence of many entries with unknown countries introduces data quality issues that could hinder accurate analysis and forecasting. If not addressed, this could lead to misinformed decisions and negative growth in markets that are underserved or misrepresented in the data.\n"
   ]
  },
  {
   "cell_type": "markdown",
   "id": "a84cddcb-f74d-4332-8679-289cfedd6251",
   "metadata": {},
   "source": [
    "### Major Ratings"
   ]
  },
  {
   "cell_type": "code",
   "execution_count": null,
   "id": "d5c7fd4a-dd9f-4b33-8af2-d29056713ce8",
   "metadata": {},
   "outputs": [],
   "source": [
    "df.rating.value_counts() #lets check the count of all ratings"
   ]
  },
  {
   "cell_type": "code",
   "execution_count": null,
   "id": "eed547ce-9fe6-47a8-bc32-d68a1f432633",
   "metadata": {},
   "outputs": [],
   "source": [
    "#plot the data\n",
    "plt.figure(figsize=(12, 6))\n",
    "sns.countplot(\n",
    "    y = 'rating',\n",
    "    hue = 'rating',\n",
    "    order = movie_countries['rating'].value_counts().index[0:10],\n",
    "    data = movie_countries,\n",
    ")\n",
    "plt.title('Top 10 Movie ratings on Netflix')\n",
    "\n",
    "\n",
    "#plot the data\n",
    "plt.figure(figsize=(12, 6))\n",
    "sns.countplot(\n",
    "    y = 'rating',\n",
    "    hue = 'rating',\n",
    "    order = show_countries['rating'].value_counts().index[0:10],\n",
    "    data = show_countries,\n",
    ")\n",
    "plt.title('Top 10 Show ratings on Netflix')\n",
    "\n"
   ]
  },
  {
   "cell_type": "markdown",
   "id": "27918902-7840-494e-99da-b008970adc1e",
   "metadata": {},
   "source": [
    "**According to the visualization:**\n",
    "- The data shows that most of the content in Netflix is for a **mature** `TV-MA`, `TV-R` set of audiences wether it is a **movie** or a **show**.\n",
    "- Also the data shows that there are a lot of content for **kids** `TV-14`, `PG-13` too.\n",
    "\n",
    "Now lets check the **top 20 release years**"
   ]
  },
  {
   "cell_type": "markdown",
   "id": "6c3253b6-71d6-4cb4-9131-54a0c9c5fbd8",
   "metadata": {},
   "source": [
    "1. Why did you pick the specific chart?\n",
    "- Separate countplots for Movie and TV Show ratings were selected to understand the distribution of content by audience maturity levels. This format makes it easy to compare which ratings dominate in each content type, highlighting the platform’s target demographics.\n",
    "\n",
    "2. What is/are the insight(s) found from the chart?\n",
    "- The charts reveal that the majority of Netflix content is rated for mature audiences, such as TV-MA and R-rated categories, for both Movies and TV Shows. However, a considerable portion is also aimed at younger audiences, including ratings like TV-14 and PG-13, indicating a content mix that spans multiple age groups.\n",
    "\n",
    "3. Will the gained insights help creating a positive business impact?\n",
    "Are there any insights that lead to negative growth? Justify with specific reason.\n",
    "- Yes, these insights help Netflix align its content strategy with its audience segments. Understanding that mature-rated content dominates can guide decisions on marketing, age-restricted features, and content development. At the same time, the presence of substantial kid-friendly content suggests opportunities for family-oriented marketing and platform personalization. However, if the balance skews too heavily toward mature content, it could alienate family or younger viewers, potentially limiting audience growth\n"
   ]
  },
  {
   "cell_type": "markdown",
   "id": "c5fa452a-7912-43ad-867f-7304dd347c6c",
   "metadata": {},
   "source": [
    "### Top 20 release years"
   ]
  },
  {
   "cell_type": "code",
   "execution_count": null,
   "id": "cf939933-5b44-4709-ba15-8af79300b71a",
   "metadata": {},
   "outputs": [],
   "source": [
    "df.release_year.value_counts()[:20] # checking the top 20 release years"
   ]
  },
  {
   "cell_type": "code",
   "execution_count": null,
   "id": "5f950778-24de-4cab-9004-1a9ad715b696",
   "metadata": {},
   "outputs": [],
   "source": [
    "# plot the data\n",
    "\n",
    "## The whole count\n",
    "plt.figure(figsize=(12, 6))\n",
    "sns.countplot(\n",
    "    x = 'release_year',\n",
    "    hue = 'release_year',\n",
    "    order = df['release_year'].value_counts().index[0:20],\n",
    "    data = df,\n",
    ")\n",
    "plt.title('Top 20 release year(s) on Netflix')\n",
    "\n",
    "\n",
    "## Counts divided as per movies and shows\n",
    "plt.figure(figsize=(12, 6))\n",
    "sns.countplot(\n",
    "    x = 'release_year',\n",
    "    hue = 'release_year',\n",
    "    order = movie_countries['release_year'].value_counts().index[0:20],\n",
    "    data = movie_countries,\n",
    ")\n",
    "plt.title('Top 20 Movie release year(s) on Netflix')\n",
    "\n",
    "\n",
    "plt.figure(figsize=(12, 6))\n",
    "sns.countplot(\n",
    "    x = 'release_year',\n",
    "    hue = 'release_year',\n",
    "    order = show_countries['release_year'].value_counts().index[0:20],\n",
    "    data = show_countries,\n",
    ")\n",
    "plt.title('Top 20 TV Show release year(s) on Netflix')\n"
   ]
  },
  {
   "cell_type": "markdown",
   "id": "e42e5314-397c-4bdd-a8c7-0a1be6a717bd",
   "metadata": {},
   "source": [
    "**The above visualization gives us a rough idea about:** \n",
    "- Most of the content was rreleased during **2017**, **2018**, **2019**, and other years had a significantly low number of releases.\n",
    "- This also shows that Netflix started releasing **more shows and movies** during the **COVID-19** time when most of the people were at home.\n",
    "- Most of the **TV Shows** were released on **2020**, followed by **2019** and then **2018**.\n",
    "- Most of the **Movies** were released on **2018**, then **2017** and then **2019**."
   ]
  },
  {
   "cell_type": "markdown",
   "id": "9556992e-52bb-4e8b-a113-6edc63757a20",
   "metadata": {},
   "source": [
    "1. Why did you pick the specific chart?\n",
    "- Countplots segmented by overall content, Movies, and TV Shows across release years were used to clearly identify trends in content output over time. This format allows for both a general and a type-specific view of how content release volume has evolved, particularly highlighting peak production years.\n",
    "\n",
    "2. What is/are the insight(s) found from the chart?\n",
    "- The visualizations show that the majority of Netflix content was released between 2017 and 2020. There was a noticeable spike in TV Show releases in 2020, likely influenced by increased streaming demand during the COVID-19 pandemic. For Movies, the peak years were 2018, 2017, and 2019, indicating a pre-pandemic production focus on films.\n",
    "\n",
    "3. Will the gained insights help creating a positive business impact?\n",
    "Are there any insights that lead to negative growth? Justify with specific reason.\n",
    "- Yes, these insights can inform Netflix's production and content release strategy by aligning future release volumes with historical audience engagement data. Recognizing the impact of external factors like the pandemic on content consumption can help in planning for future global disruptions. However, if the production volumes in recent years have dropped significantly post-pandemic without maintaining user interest, it may lead to stagnation or decline in subscriber retention, contributing to potential negative growth. Additionally, over-reliance on a short burst of content during peak years without sustained output might affect long-term user engagement.\n",
    "\n",
    "Lets analyse the **Genres** now"
   ]
  },
  {
   "cell_type": "markdown",
   "id": "247719cc-11dd-4a72-906c-c7e36d04edf5",
   "metadata": {},
   "source": [
    "### Genre Distribution"
   ]
  },
  {
   "cell_type": "code",
   "execution_count": null,
   "id": "564db15b-916b-4bc3-b261-e66d98b47e48",
   "metadata": {},
   "outputs": [],
   "source": [
    "plt.figure(figsize=(12, 8))\n",
    "sns.countplot(\n",
    "    y = 'listed_in',\n",
    "    hue = 'listed_in',\n",
    "    order = df['listed_in'].value_counts().index[0:20],\n",
    "    data = df,\n",
    ")\n",
    "plt.title('Top 20 Genres on Netflix')\n",
    "\n",
    "\n",
    "plt.figure(figsize=(12, 8))\n",
    "sns.countplot(\n",
    "    y = 'listed_in',\n",
    "    hue = 'listed_in',\n",
    "    order = movie_countries['listed_in'].value_counts().index[0:20],\n",
    "    data = movie_countries,\n",
    ")\n",
    "plt.title('Top 20 Movie Genres on Netflix')\n",
    "\n",
    "\n",
    "plt.figure(figsize=(12, 8))\n",
    "sns.countplot(\n",
    "    y = 'listed_in',\n",
    "    hue = 'listed_in',\n",
    "    order = show_countries['listed_in'].value_counts().index[0:20],\n",
    "    data = show_countries,\n",
    ")\n",
    "plt.title('Top 20 Show Genres on Netflix')"
   ]
  },
  {
   "cell_type": "markdown",
   "id": "11dd5f37-bd34-403a-83a6-e79050fa5320",
   "metadata": {},
   "source": [
    "From the visualization above, we get the following information:\n",
    "- Most of the content in netflix are **documentaries**, **stand-up comedy**, **dramas** and **international movies**.\n",
    "- Most of the **movies** in netflix are **documentaries**, **stand-up comedy**, **dramas** and **international movies** too.\n",
    "- Most of the **shows** in netflix are **Kids TV**, although the in the **ratings**, we can see that most of the content is for **mature** audiences.\n",
    "- Most of the **shows** in netflix are **Kids TV**, **dramas** and **international TV shows** too.\n"
   ]
  },
  {
   "cell_type": "markdown",
   "id": "c7c9abf9-09fa-44d2-9241-c82b7ad5a0b9",
   "metadata": {},
   "source": [
    "1. Why did you pick the specific chart?\n",
    "- Separate countplots for overall genres, movie genres, and show genres were used to analyze the top 20 content categories on Netflix. This breakdown allows for a clearer understanding of the genre preferences by content type, helping to identify trends and gaps in Netflix’s catalog.\n",
    "\n",
    "2. What is/are the insight(s) found from the chart?\n",
    "- The insights show that Netflix has a strong focus on genres like documentaries, stand-up comedy, dramas, and international movies. For TV Shows specifically, Kids TV leads in volume, followed by dramas and international shows. This suggests that while ratings data indicates a large share of mature content, the genre classification for shows still reflects a substantial offering for younger audiences.\n",
    "\n",
    "3. Will the gained insights help creating a positive business impact?\n",
    "- Yes, understanding genre distribution helps Netflix tailor its content strategy to match viewer interests and fill underserved niches. The strong presence of documentaries and stand-up comedy suggests a growing demand for educational and entertainment-focused content, which Netflix can capitalize on."
   ]
  },
  {
   "cell_type": "markdown",
   "id": "cb3df898-22f7-4278-88ae-95d788f7cd2c",
   "metadata": {},
   "source": [
    "Let's look deeper into **what genres** are the **top actors** most interested in and analyze their involvement in **minutes**."
   ]
  },
  {
   "cell_type": "markdown",
   "id": "ef03b46f-57a3-4376-a296-0e959446f8eb",
   "metadata": {},
   "source": [
    "### Radar Plot for Top 20 Actors showing their Genre-Involvement Based on Time"
   ]
  },
  {
   "cell_type": "code",
   "execution_count": null,
   "id": "bc6f8572-1d29-406f-8b56-d57d83162047",
   "metadata": {},
   "outputs": [],
   "source": [
    "# Clean data (Remove \"Unknown\" actors and genres)\n",
    "df_valid = df[(df['cast'] != 'Unknown') & (df['listed_in'] != 'Unknown')].copy()\n",
    "\n",
    "# Step 2: Explode the columns\n",
    "df_valid['cast'] = df_valid['cast'].str.split(', ')\n",
    "df_valid['listed_in'] = df_valid['listed_in'].str.split(', ')\n",
    "df_exploded = df_valid.explode('cast').explode('listed_in')\n",
    "\n",
    "# Parse and add duration in minutes\n",
    "def parse_duration(x):\n",
    "    if pd.isna(x):\n",
    "        return None\n",
    "    if 'min' in x:\n",
    "        return int(x.replace(' min', ''))\n",
    "    elif 'Season' in x:\n",
    "        return int(x.split(' ')[0]) * 12 * 30  # Approx. 1 season = 12ep, 30 mins each\n",
    "    return None\n",
    "\n",
    "df_exploded['duration_min'] = df_exploded['duration'].apply(parse_duration)\n",
    "\n",
    "# Get top 9 actors\n",
    "top_9_actors = df_exploded['cast'].value_counts().head(9).index.tolist()\n",
    "\n",
    "# Step 5: Create pivot table (actor x genre with sum of durations)\n",
    "pivot = df_exploded[df_exploded['cast'].isin(top_9_actors)] \\\n",
    "    .groupby(['cast', 'listed_in'])['duration_min'] \\\n",
    "    .sum() \\\n",
    "    .unstack(fill_value=0)\n",
    "\n",
    "# Radar Chart Function\n",
    "def plot_radar(actor, data, ax):\n",
    "    labels = list(data.columns)\n",
    "    values = data.loc[actor].values.tolist()\n",
    "\n",
    "    # Normalize to a max of 100 for better comparison (optional)\n",
    "    max_val = max(values) if max(values) != 0 else 1\n",
    "    values = [(v / max_val) * 100 for v in values]\n",
    "\n",
    "    # Close the radar loop\n",
    "    values += values[:1]\n",
    "    labels += labels[:1]\n",
    "    angles = np.linspace(0, 2 * np.pi, len(labels), endpoint=False).tolist()\n",
    "    \n",
    "    ax.set_theta_offset(np.pi / 2)\n",
    "    ax.set_theta_direction(-1)\n",
    "    \n",
    "    ax.plot(angles, values, linewidth=2)\n",
    "    ax.fill(angles, values, alpha=0.25)\n",
    "    ax.set_title(actor, size=12, pad=20)\n",
    "    ax.set_xticks(angles)\n",
    "    ax.set_xticklabels(labels, fontsize=9)\n",
    "    ax.set_yticklabels([])\n",
    "\n",
    "# Plot radar charts in 3x3 layout\n",
    "fig, axs = plt.subplots(3, 3, figsize=(30, 30), subplot_kw={'polar': True})\n",
    "axs = axs.flatten()\n",
    "\n",
    "for i, actor in enumerate(top_9_actors):\n",
    "    plot_radar(actor, pivot, axs[i])\n",
    "\n",
    "plt.tight_layout()\n",
    "plt.show()"
   ]
  },
  {
   "cell_type": "markdown",
   "id": "990a72e5-86d1-441d-b7de-fcd892379e82",
   "metadata": {},
   "source": [
    "**From the above data we know that:**\n",
    "- All of the top actors except **Yuki Kaji** has worked in **Thrillers** genre along with **Action and Adventure**\n",
    "- **Anupam Kher's** adaptation to a wide range of genres including **Thrillers**, **Actions**, **Romantic Shows**, **Comedies**, **Dramas**, **Fantasies**, **Shows**, **Classics** makes him one of the top 9 actors.\n",
    "- **Comedy** is another common **genre** within the top actors.\n",
    "- According to the **time involvement**, these actors invested themselves in the **International Movies** and **Independent Movies** genre"
   ]
  },
  {
   "cell_type": "markdown",
   "id": "0574d7e9-0c2a-4021-9e31-6cfe130183e0",
   "metadata": {},
   "source": [
    "1. Why did you pick the specific chart?\n",
    "- Radar plots were used to represent each top actor’s involvement across different genres, measured by total screen time. This format allows for an intuitive and visually engaging comparison of genre diversity and specialization across multiple actors in a compact grid layout.\n",
    "\n",
    "2. What is/are the insight(s) found from the chart?\n",
    "- The radar plots reveal that:\n",
    "    - Most of the top 9 actors, except Yuki Kaji, have contributed significantly to Thriller, Action, and Adventure genres.\n",
    "    - Anupam Kher stands out due to his involvement across a wide spectrum of genres, indicating strong versatility.\n",
    "    - Comedy is a commonly shared genre among top actors.\n",
    "    - Several actors have devoted considerable time to International and Independent Movies, suggesting a global and niche market appeal.\n",
    "\n",
    "3. Will the gained insights help creating a positive business impact?\n",
    "Are there any insights that lead to negative growth? Justify with specific reason.\n",
    "- Yes, these insights can guide Netflix in casting decisions and personalized content recommendations. Identifying actors who perform well across multiple genres helps in producing diverse and high-appeal content. Also, understanding time investment per genre helps prioritize partnerships with actors that align with high-demand content categories. There is no immediate indication of insights that lead to negative growth, but overuse of certain actors in similar genres could risk viewer fatigue or lack of novelty, which should be managed with varied casting and fresh content.\n"
   ]
  },
  {
   "cell_type": "markdown",
   "id": "c05de27b-dcad-4a25-bbed-55016d1f42c2",
   "metadata": {},
   "source": [
    "### Genre Popularity Over Time"
   ]
  },
  {
   "cell_type": "code",
   "execution_count": null,
   "id": "f9178658-3507-4173-a904-862f2d5dc9e3",
   "metadata": {},
   "outputs": [],
   "source": [
    "# Filter out unknowns\n",
    "df_valid = df[(df['listed_in'] != 'Unknown') & (df['release_year'].notna())].copy()\n",
    "\n",
    "# Explode the genres\n",
    "df_valid['listed_in'] = df_valid['listed_in'].str.split(', ')\n",
    "df_exploded = df_valid.explode('listed_in')\n",
    "\n",
    "# Group by genre and year\n",
    "genre_year_counts = df_exploded.groupby(['release_year', 'listed_in']).size().reset_index(name='count')\n",
    "\n",
    "# Pivot the data to get genres as columns\n",
    "genre_trend = genre_year_counts.pivot(index='release_year', columns='listed_in', values='count').fillna(0)\n",
    "\n",
    "# Only keep top N genres by total count\n",
    "top_genres = df_exploded['listed_in'].value_counts().head(10).index\n",
    "genre_trend = genre_trend[top_genres]\n",
    "\n",
    "# Plot\n",
    "plt.figure(figsize=(14, 8))\n",
    "for genre in genre_trend.columns:\n",
    "    plt.plot(genre_trend.index, genre_trend[genre], label=genre)\n",
    "\n",
    "plt.title(\"Genre Popularity Over Time\")\n",
    "plt.xlabel(\"Release Year\")\n",
    "plt.ylabel(\"Number of Titles\")\n",
    "plt.legend(loc='upper left', bbox_to_anchor=(1, 1))\n",
    "plt.grid(True)\n",
    "plt.tight_layout()\n",
    "plt.show()"
   ]
  },
  {
   "cell_type": "markdown",
   "id": "51217762-ae68-443f-98d7-d80c00cbd2c8",
   "metadata": {},
   "source": [
    "The above graph shows that movies and shows were released consistently among most of the genres"
   ]
  },
  {
   "cell_type": "markdown",
   "id": "34614f3f-a3a0-42e0-927f-3e8edd9dd48b",
   "metadata": {},
   "source": [
    "Around 2017, Netflix experienced a period where its library size decreased, but this was part of a broader strategy to focus on original content and reduce reliance on licensed titles from other studios, reports Vox states. While this shift meant fewer titles were available from external sources, it also allowed Netflix to invest heavily in its own productions, potentially leading to higher-quality content and a more distinct brand identity"
   ]
  },
  {
   "cell_type": "markdown",
   "id": "25f458a0-c955-4c1d-89f1-2b4cfb61029d",
   "metadata": {},
   "source": [
    "1. Why did you pick the specific chart?\n",
    "- A line chart was chosen to track the popularity of the top 10 genres over time, as it effectively visualizes trends and fluctuations across years. This format allows easy identification of rising or declining genre trends based on the number of titles released annually.\n",
    "\n",
    "2. What is/are the insight(s) found from the chart?\n",
    "- The visualization shows that content has been released consistently across the top genres over the years. Although no single genre demonstrates extreme dominance or decline, the chart highlights steady output, suggesting a balanced genre strategy by Netflix.\n",
    "\n",
    "3. Will the gained insights help creating a positive business impact?\n",
    "Are there any insights that lead to negative growth? Justify with specific reason.\n",
    "- Yes, the consistent genre release trends indicate Netflix’s strategic effort to maintain a diverse content library, which can help attract and retain a wide audience base. By analyzing this data further, Netflix can identify emerging genre preferences and allocate resources accordingly. However, the absence of sharp rises or new genre surges might suggest missed opportunities for innovation or niche market expansion, which could lead to stagnation if not addressed proactively."
   ]
  },
  {
   "cell_type": "markdown",
   "id": "d763ec0d-d74f-4de8-aa6f-398997e7e376",
   "metadata": {},
   "source": [
    "### Correlation Heatmap"
   ]
  },
  {
   "cell_type": "code",
   "execution_count": null,
   "id": "b508a67d-0106-46c1-9329-ee421b43010e",
   "metadata": {},
   "outputs": [],
   "source": [
    "# 1. Type (Movie = 1, TV Show = 0)\n",
    "df['is_movie'] = df['type'].apply(lambda x: 1 if x == 'Movie' else 0)\n",
    "\n",
    "# 2. Extract year and month from date_added\n",
    "df['year_added'] = df['date_added'].dt.year\n",
    "df['month_added'] = df['date_added'].dt.month\n",
    "\n",
    "# 3. Convert duration into numerical value\n",
    "def parse_duration(x):\n",
    "    if pd.isna(x):\n",
    "        return None\n",
    "    if 'min' in x:\n",
    "        return int(x.replace(' min', ''))\n",
    "    elif 'Season' in x:\n",
    "        return int(x.split(' ')[0]) * 12 * 30  # Approx. 1 season = 12ep, 30 mins each\n",
    "    elif 'Unknown' in x:\n",
    "        return None\n",
    "    return None\n",
    "\n",
    "df['duration_num'] = df['duration'].apply(parse_duration)\n",
    "\n",
    "# 4. Map rating to approximate audience age\n",
    "rating_map = {\n",
    "    'G': 0, 'TV-G': 0,\n",
    "    'PG': 10, 'TV-PG': 10,\n",
    "    'PG-13': 13, 'TV-14': 14,\n",
    "    'R': 17, 'TV-MA': 18,\n",
    "    'NC-17': 18,\n",
    "}\n",
    "df['rating_num'] = df['rating'].map(rating_map)\n",
    "\n",
    "# 5. Keep only numeric columns\n",
    "correlation_df = df[['is_movie', 'release_year', 'year_added', 'month_added', 'duration_num', 'rating_num']]\n",
    "\n",
    "# Drop rows with missing values\n",
    "correlation_df = correlation_df.dropna()\n",
    "\n",
    "# 6. Plot the heatmap\n",
    "plt.figure(figsize=(10, 7))\n",
    "sns.heatmap(correlation_df.corr(), annot=True, cmap='coolwarm', fmt=\".2f\")\n",
    "plt.title(\"Correlation Heatmap\")\n",
    "plt.show()"
   ]
  },
  {
   "cell_type": "markdown",
   "id": "afe12b11-ecf7-424b-8be9-17ae567ae186",
   "metadata": {},
   "source": [
    "**The above correlation heatmap gives the correlation between the variables indicating how one varuiable is related to the others.**\n",
    "\n",
    "**For example:**\n",
    "| Variables                        | Correlation | Insight                                    |\n",
    "| -------------------------------- | ----------- | ------------------------------------------ |\n",
    "| `is_movie` vs `duration_num`     | -0.61       | TV Shows are longer on average than movies |\n",
    "| `release_year` vs `rating_num`   | +0.15       | Newer content is more mature               |\n",
    "| `release_year` vs `duration_num` | +0.07       | Newer shows/movies are getting longer      |\n",
    "| `year_added` vs `release_year`   | +0.08       | Netflix is adding more recent content      |\n"
   ]
  },
  {
   "cell_type": "markdown",
   "id": "0e93d811-303d-413b-bd3c-d19c670a0e1b",
   "metadata": {},
   "source": [
    "1. Why this chart?\n",
    "- A correlation heatmap was selected to identify linear relationships between numerical features in the dataset. This chart format clearly highlights positive and negative correlations between key variables like content type, duration, release year, and maturity rating, aiding in quick pattern detection.\n",
    "\n",
    "2. What is/are the insight(s) found from the chart?\n",
    "    - TV Shows tend to have longer durations than movies.\n",
    "    - Newer content tends to be more mature (i.e., higher ratings like TV-MA).\n",
    "    - There's a slight trend of decreasing content duration over time.\n",
    "    - Netflix increasingly adds newer content, suggesting a shift toward relevance and recency.\n",
    "    \n",
    "3. Will the gained insights help creating a positive business impact?\n",
    "Are there any insights that lead to negative growth? Justify with specific reason.\n",
    "- Yes, these insights support smarter content strategy and platform curation. For example, knowing that modern audiences prefer shorter, more mature content could guide Netflix in commissioning series and films that match this demand. Additionally, ensuring a steady influx of new content can keep the platform fresh and engaging. However, a potential downside is that overly short content may impact viewer satisfaction if stories feel rushed or underdeveloped—this should be monitored through user engagement metrics.\n"
   ]
  },
  {
   "cell_type": "markdown",
   "id": "82ce209e-1460-4074-bb8b-98229d901eb5",
   "metadata": {},
   "source": [
    "### Pair plots for key insights"
   ]
  },
  {
   "cell_type": "code",
   "execution_count": null,
   "id": "9acab800-1a58-418a-aa33-b3c11d291c29",
   "metadata": {},
   "outputs": [],
   "source": [
    "# Create a 2x2 canvas\n",
    "fig, axs = plt.subplots(2, 2, figsize=(18, 10))\n",
    "axs = axs.flatten()\n",
    "\n",
    "# 1. duration_num vs rating_num\n",
    "sns.scatterplot(data=correlation_df, x='rating_num', y='duration_num', ax=axs[0])\n",
    "axs[0].set_title('Duration vs Rating Age')\n",
    "\n",
    "# 2. release_year vs duration_num\n",
    "sns.scatterplot(data=correlation_df, x='release_year', y='duration_num', ax=axs[1])\n",
    "axs[1].set_title('Duration vs Release Year')\n",
    "\n",
    "# 3. year_added vs release_year\n",
    "sns.scatterplot(data=correlation_df, x='release_year', y='year_added', ax=axs[2])\n",
    "axs[2].set_title('Year Added vs Release Year')\n",
    "\n",
    "# 4. month_added vs is_movie\n",
    "sns.countplot(data=correlation_df, x='month_added', hue='is_movie', ax=axs[3])\n",
    "axs[3].set_title('Month Added vs Type')\n",
    "axs[3].legend(title='Type', labels=['TV Show', 'Movie'])\n",
    "\n",
    "plt.tight_layout()\n",
    "plt.suptitle('Key Netflix Data Insights', fontsize=16, y=1.03)\n",
    "plt.show()"
   ]
  },
  {
   "cell_type": "markdown",
   "id": "fb02f519-0e1e-46e8-88fd-bf698052b3e5",
   "metadata": {},
   "source": [
    "From the above visualizations, we get a more clear instght about the data. These are:\n",
    "- Contents are added mainly in the winters. **Nov**, **Dec**, **Jan**\n",
    "- Most of the content Netflix releases are **recently released**.\n",
    "- The duration has no corelation with date released. Which means, the duration of the movies or shows maybe short or long.\n",
    "- From the `duration` vs `rating` graph, we can see that **PG Rating** is not related with **duration**. There are all duration of content for all age groups."
   ]
  },
  {
   "cell_type": "markdown",
   "id": "89f421b8-b8ae-4add-ba40-1a229bd0065a",
   "metadata": {},
   "source": [
    "1. Why did you pick the specific chart?\n",
    "- Pair plots and scatterplots were chosen to visually explore relationships between multiple variable pairs. This layout helps reveal patterns, outliers, and distribution trends across different metrics like duration, rating, release year, and addition time.\n",
    "\n",
    "2. What is/are the insight(s) found from the chart?\n",
    "    - Netflix adds most content during winter months (Nov–Jan), possibly aligning with higher viewership periods.\n",
    "    - Recently released content is prioritized for addition, as indicated by a strong match between release year and year added.\n",
    "    - There is no significant relationship between content duration and release year, indicating creative freedom regardless of release time.\n",
    "    - Content duration spans broadly across all rating groups, suggesting Netflix caters to diverse age groups with varied content lengths.\n",
    "\n",
    "3. Will the gained insights help creating a positive business impact?\n",
    "Are there any insights that lead to negative growth? Justify with specific reason.\n",
    "- Yes, these insights can drive effective scheduling and content planning. For instance, aligning major releases with winter months can leverage seasonal viewership spikes. Understanding that duration is not constrained by rating or release period empowers creative teams. No evident negative insights were found; however, over-reliance on seasonal release timing could lead to less consistent engagement across the year\n"
   ]
  },
  {
   "cell_type": "markdown",
   "id": "96b37217-f44a-4323-bcc1-477a96e1a71a",
   "metadata": {},
   "source": [
    "### Clustering TV Shows and Movies based on Time and Release Year"
   ]
  },
  {
   "cell_type": "code",
   "execution_count": null,
   "id": "e129086b-87da-4990-81cc-edeb75ab5561",
   "metadata": {},
   "outputs": [],
   "source": [
    "import matplotlib.pyplot as plt\n",
    "\n",
    "# Make sure 'is_movie' exists (1 for Movie, 0 for TV Show)\n",
    "df['is_movie'] = df['type'].apply(lambda x: 1 if x == 'Movie' else 0)\n",
    "\n",
    "# Plot\n",
    "plt.figure(figsize=(10, 6))\n",
    "scatter = plt.scatter(df['duration_num'], df['release_year'],\n",
    "                      c=df['is_movie'], cmap='bwr', alpha=0.6)\n",
    "\n",
    "plt.title('Movies vs TV Shows (Scatter Plot)')\n",
    "plt.xlabel('Duration (minutes)')\n",
    "plt.ylabel('Release Year')\n",
    "plt.grid(True)\n",
    "\n",
    "# Add legend manually\n",
    "import matplotlib.patches as mpatches\n",
    "movie_patch = mpatches.Patch(color='red', label='Movie')\n",
    "tv_patch = mpatches.Patch(color='blue', label='TV Show')\n",
    "plt.legend(handles=[movie_patch, tv_patch])\n",
    "\n",
    "plt.show()\n"
   ]
  },
  {
   "cell_type": "markdown",
   "id": "0b913030-fc1a-4d39-b9c5-76ae2e276d54",
   "metadata": {},
   "source": [
    "From the above `scatterplot` we see that:\n",
    "- There are *two* clusters. **Blue** and **Red**.\n",
    "- The **Red** cluster shows the **movies** with durations within *0-250 mins*.\n",
    "- The **Blue** cluster represents all the **shows** with higher durations.\n",
    "- It also shows that the show with the shortest duration is significantly longer than the longest movie."
   ]
  },
  {
   "cell_type": "markdown",
   "id": "ed4cbe01-d60b-4588-8100-c00465f713e3",
   "metadata": {},
   "source": [
    "1. Why did you pick the specific chart?\n",
    "- A scatterplot was chosen to visualize the relationship between content duration and release year while distinguishing between movies and TV shows. Coloring the data points by content type enables clear identification of structural differences and clustering patterns, making it easier to interpret temporal and duration-based trends.\n",
    "\n",
    "2. What is/are the insight(s) found from the chart?\n",
    "    - Two distinct clusters are visible: one for Movies (Red) and another for TV Shows (Blue).\n",
    "    - Movies have a compact duration range (mostly under 250 minutes), while TV Shows tend to have much longer durations due to episodic formats.\n",
    "    - The shortest TV Show is longer than the longest Movie, suggesting a fundamental difference in format length.\n",
    "    - TV Shows and Movies have been released across a similar timeline, showing Netflix maintains a balance between both content types over the years.\n",
    "\n",
    "3. Will the gained insights help creating a positive business impact?\n",
    "Are there any insights that lead to negative growth? Justify with specific reason.\n",
    "- Yes, these insights support strategic content curation and user experience design. By understanding clear format differences, Netflix can refine recommendation algorithms based on user preferences for shorter (Movies) or longer (TV Shows) content. This distinction can also inform marketing approaches and content segmentation. No negative trends are observed, though the significant time investment required for shows may deter casual viewers—highlighting a potential need for more concise show formats or episode-based previews.\n"
   ]
  },
  {
   "cell_type": "markdown",
   "id": "48c690b8-ee6f-4426-bf0a-54e115cc74f2",
   "metadata": {},
   "source": [
    "## Report Summary\n",
    "\n",
    "**Netflix Content Analysis Key Points:**\n",
    "\n",
    "1. **Content Type Distribution**\n",
    "   - Netflix features more Movies than TV Shows in its overall catalog.\n",
    "\n",
    "2. **Geographical Production**\n",
    "   - The U.S. is the top content-producing country.\n",
    "   - India leads for movie production after the U.S., while the U.K. is the runner-up for TV Shows.\n",
    "   - A significant number of entries lack country information, indicating metadata gaps.\n",
    "\n",
    "3. **Audience Ratings**\n",
    "   - Content is skewed towards mature audiences (TV-MA, R).\n",
    "   - There is also a healthy representation of content for teens (TV-14, PG-13) and younger viewers.\n",
    "\n",
    "4. **Release Year Trends**\n",
    "   - Content production peaked between 2017 and 2020.\n",
    "   - 2018 saw the highest number of Movies, while 2020 saw a surge in TV Show releases—likely influenced by global lockdowns.\n",
    "\n",
    "5. **Genre Popularity**\n",
    "   - Leading genres include Documentaries, Stand-Up Comedy, Dramas, and International Movies.\n",
    "   - Kids TV dominates the TV Show category, although mature-rated content remains prevalent.\n",
    "\n",
    "6. **Top Actors & Genre Involvement**\n",
    "   - Common genres among top actors include Thrillers, Action, Adventure, and Comedy.\n",
    "   - Anupam Kher stands out for versatility across multiple genres.\n",
    "   - International and Independent Movies are highly represented in their portfolios.\n",
    "   - Yuki Kaji is an exception, with less involvement in the Thriller genre.\n",
    "\n",
    "7. **Genre Distribution Over Time**\n",
    "   - Genre popularity has been consistent over the years with a steady release of diverse content types.\n",
    "   - Top 10 genres have maintained strong representation across release years.\n",
    "\n",
    "8. **Temporal Patterns in Content Addition**\n",
    "   - Most content is added during the winter months—especially November to January—likely to match holiday season demand.\n",
    "   - Content added is generally recently released, showing a focus on fresh offerings.\n",
    "\n",
    "9. **Correlation Insights**\n",
    "   - TV Shows are significantly longer than Movies due to their episodic nature.\n",
    "   - Newer content tends to have more mature audience ratings.\n",
    "   - There's a slight trend toward shorter content in recent years.\n",
    "   - Minimal correlation exists between release year and duration, suggesting flexible content length strategies.\n",
    "   - PG and TV-PG rated content spans a wide range of durations, indicating diverse content formats for all age groups.\n",
    "\n",
    "10. **Movie vs TV Show Scatterplot Insights**\n",
    "    - A clear bifurcation exists between Movies and TV Shows based on duration.\n",
    "    - Movies (red) cluster around 0–250 minutes.\n",
    "    - TV Shows (blue) occupy the higher duration range.\n",
    "    - The shortest TV Show is still longer than the longest Movie, highlighting fundamental differences in format.\n",
    "\n",
    "## Conclusion\n",
    "\n",
    "Netflix’s catalog is heavily influenced by recent, mature-rated content, primarily produced in the U.S., with India and the U.K. as notable contributors. Documentaries, Dramas, and International genres lead the genre landscape, while Kids TV holds a stronghold in show formats. Content release surged during 2017–2020, and winter months remain the top period for new additions. Top actors tend to favor high-action and international roles. Strategic patterns like emphasizing mature, shorter content and adding shows during high-demand months reflect Netflix’s data-driven approach to audience engagement and content planning.\n"
   ]
  }
 ],
 "metadata": {
  "kernelspec": {
   "display_name": "Python 3 (ipykernel)",
   "language": "python",
   "name": "python3"
  },
  "language_info": {
   "codemirror_mode": {
    "name": "ipython",
    "version": 3
   },
   "file_extension": ".py",
   "mimetype": "text/x-python",
   "name": "python",
   "nbconvert_exporter": "python",
   "pygments_lexer": "ipython3",
   "version": "3.9.6"
  }
 },
 "nbformat": 4,
 "nbformat_minor": 5
}
